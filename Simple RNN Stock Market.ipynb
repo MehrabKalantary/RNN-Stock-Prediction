{
 "cells": [
  {
   "cell_type": "markdown",
   "id": "aeb5fceb",
   "metadata": {
    "pycharm": {
     "name": "#%% md\n"
    }
   },
   "source": [
    "# DJIA 30 Stock Prediction using Simple RNN\n",
    "[Dataset on kaggle](https://www.kaggle.com/datasets/szrlee/stock-time-series-20050101-to-20171231)\n",
    "\n",
    "## Contents\n",
    "* Data Understanding\n",
    "* Data Preprocessing\n",
    "* Modeling\n",
    "* Evaluation"
   ]
  },
  {
   "cell_type": "code",
   "execution_count": 43,
   "id": "c73edc33",
   "metadata": {
    "pycharm": {
     "name": "#%%\n"
    }
   },
   "outputs": [],
   "source": [
    "import pandas as pd\n",
    "import numpy as np\n",
    "from tensorflow.keras.models import Sequential\n",
    "from tensorflow.keras.layers import Dense, SimpleRNN\n",
    "from tensorflow.keras.utils import plot_model\n",
    "import matplotlib.pyplot as plt"
   ]
  },
  {
   "cell_type": "code",
   "execution_count": 44,
   "id": "60ada56d",
   "metadata": {
    "pycharm": {
     "name": "#%%\n"
    }
   },
   "outputs": [
    {
     "data": {
      "text/html": [
       "<div>\n",
       "<style scoped>\n",
       "    .dataframe tbody tr th:only-of-type {\n",
       "        vertical-align: middle;\n",
       "    }\n",
       "\n",
       "    .dataframe tbody tr th {\n",
       "        vertical-align: top;\n",
       "    }\n",
       "\n",
       "    .dataframe thead th {\n",
       "        text-align: right;\n",
       "    }\n",
       "</style>\n",
       "<table border=\"1\" class=\"dataframe\">\n",
       "  <thead>\n",
       "    <tr style=\"text-align: right;\">\n",
       "      <th></th>\n",
       "      <th>Date</th>\n",
       "      <th>Open</th>\n",
       "      <th>High</th>\n",
       "      <th>Low</th>\n",
       "      <th>Close</th>\n",
       "      <th>Volume</th>\n",
       "      <th>Name</th>\n",
       "    </tr>\n",
       "  </thead>\n",
       "  <tbody>\n",
       "    <tr>\n",
       "      <th>0</th>\n",
       "      <td>2006-01-03</td>\n",
       "      <td>39.69</td>\n",
       "      <td>41.22</td>\n",
       "      <td>38.79</td>\n",
       "      <td>40.91</td>\n",
       "      <td>24232729</td>\n",
       "      <td>AABA</td>\n",
       "    </tr>\n",
       "    <tr>\n",
       "      <th>1</th>\n",
       "      <td>2006-01-04</td>\n",
       "      <td>41.22</td>\n",
       "      <td>41.90</td>\n",
       "      <td>40.77</td>\n",
       "      <td>40.97</td>\n",
       "      <td>20553479</td>\n",
       "      <td>AABA</td>\n",
       "    </tr>\n",
       "    <tr>\n",
       "      <th>2</th>\n",
       "      <td>2006-01-05</td>\n",
       "      <td>40.93</td>\n",
       "      <td>41.73</td>\n",
       "      <td>40.85</td>\n",
       "      <td>41.53</td>\n",
       "      <td>12829610</td>\n",
       "      <td>AABA</td>\n",
       "    </tr>\n",
       "    <tr>\n",
       "      <th>3</th>\n",
       "      <td>2006-01-06</td>\n",
       "      <td>42.88</td>\n",
       "      <td>43.57</td>\n",
       "      <td>42.80</td>\n",
       "      <td>43.21</td>\n",
       "      <td>29422828</td>\n",
       "      <td>AABA</td>\n",
       "    </tr>\n",
       "    <tr>\n",
       "      <th>4</th>\n",
       "      <td>2006-01-09</td>\n",
       "      <td>43.10</td>\n",
       "      <td>43.66</td>\n",
       "      <td>42.82</td>\n",
       "      <td>43.42</td>\n",
       "      <td>16268338</td>\n",
       "      <td>AABA</td>\n",
       "    </tr>\n",
       "  </tbody>\n",
       "</table>\n",
       "</div>"
      ],
      "text/plain": [
       "         Date   Open   High    Low  Close    Volume  Name\n",
       "0  2006-01-03  39.69  41.22  38.79  40.91  24232729  AABA\n",
       "1  2006-01-04  41.22  41.90  40.77  40.97  20553479  AABA\n",
       "2  2006-01-05  40.93  41.73  40.85  41.53  12829610  AABA\n",
       "3  2006-01-06  42.88  43.57  42.80  43.21  29422828  AABA\n",
       "4  2006-01-09  43.10  43.66  42.82  43.42  16268338  AABA"
      ]
     },
     "execution_count": 44,
     "metadata": {},
     "output_type": "execute_result"
    }
   ],
   "source": [
    "data = pd.read_csv('data/AABA_2006-01-01_to_2018-01-01.csv')\n",
    "data.head()"
   ]
  },
  {
   "cell_type": "markdown",
   "id": "06602fe8",
   "metadata": {
    "pycharm": {
     "name": "#%% md\n"
    }
   },
   "source": [
    "### Data Understanding"
   ]
  },
  {
   "cell_type": "code",
   "execution_count": 45,
   "id": "629cafc1",
   "metadata": {
    "pycharm": {
     "name": "#%%\n"
    }
   },
   "outputs": [
    {
     "name": "stdout",
     "output_type": "stream",
     "text": [
      "<class 'pandas.core.frame.DataFrame'>\n",
      "RangeIndex: 3019 entries, 0 to 3018\n",
      "Data columns (total 7 columns):\n",
      " #   Column  Non-Null Count  Dtype  \n",
      "---  ------  --------------  -----  \n",
      " 0   Date    3019 non-null   object \n",
      " 1   Open    3019 non-null   float64\n",
      " 2   High    3019 non-null   float64\n",
      " 3   Low     3019 non-null   float64\n",
      " 4   Close   3019 non-null   float64\n",
      " 5   Volume  3019 non-null   int64  \n",
      " 6   Name    3019 non-null   object \n",
      "dtypes: float64(4), int64(1), object(2)\n",
      "memory usage: 165.2+ KB\n"
     ]
    }
   ],
   "source": [
    "data.info()"
   ]
  },
  {
   "cell_type": "code",
   "execution_count": 46,
   "id": "1852babf",
   "metadata": {
    "pycharm": {
     "name": "#%%\n"
    }
   },
   "outputs": [
    {
     "data": {
      "text/plain": [
       "Date      0\n",
       "Open      0\n",
       "High      0\n",
       "Low       0\n",
       "Close     0\n",
       "Volume    0\n",
       "Name      0\n",
       "dtype: int64"
      ]
     },
     "execution_count": 46,
     "metadata": {},
     "output_type": "execute_result"
    }
   ],
   "source": [
    "data.isna().sum()"
   ]
  },
  {
   "cell_type": "code",
   "execution_count": 47,
   "id": "60efe078",
   "metadata": {
    "pycharm": {
     "name": "#%%\n"
    }
   },
   "outputs": [
    {
     "data": {
      "text/plain": [
       "0"
      ]
     },
     "execution_count": 47,
     "metadata": {},
     "output_type": "execute_result"
    }
   ],
   "source": [
    "data.duplicated().sum()"
   ]
  },
  {
   "cell_type": "code",
   "execution_count": 48,
   "id": "8af0f4c0",
   "metadata": {
    "pycharm": {
     "name": "#%%\n"
    }
   },
   "outputs": [
    {
     "data": {
      "image/png": "[encoded data removed]",
      "text/plain": [
       "<Figure size 432x288 with 6 Axes>"
      ]
     },
     "metadata": {
      "needs_background": "light"
     },
     "output_type": "display_data"
    }
   ],
   "source": [
    "data.hist()\n",
    "plt.show()"
   ]
  },
  {
   "cell_type": "code",
   "execution_count": 49,
   "id": "4018294f",
   "metadata": {
    "pycharm": {
     "name": "#%%\n"
    }
   },
   "outputs": [
    {
     "data": {
      "text/plain": [
       "Date      3019\n",
       "Open      1913\n",
       "High      1921\n",
       "Low       1910\n",
       "Close     1960\n",
       "Volume    3018\n",
       "Name         1\n",
       "dtype: int64"
      ]
     },
     "execution_count": 49,
     "metadata": {},
     "output_type": "execute_result"
    }
   ],
   "source": [
    "data.nunique()"
   ]
  },
  {
   "cell_type": "markdown",
   "id": "9c7845c6",
   "metadata": {
    "pycharm": {
     "name": "#%% md\n"
    }
   },
   "source": [
    "Just need \"Open\" column"
   ]
  },
  {
   "cell_type": "code",
   "execution_count": 50,
   "id": "e6fb81d2",
   "metadata": {
    "pycharm": {
     "name": "#%%\n"
    }
   },
   "outputs": [
    {
     "data": {
      "text/html": [
       "<div>\n",
       "<style scoped>\n",
       "    .dataframe tbody tr th:only-of-type {\n",
       "        vertical-align: middle;\n",
       "    }\n",
       "\n",
       "    .dataframe tbody tr th {\n",
       "        vertical-align: top;\n",
       "    }\n",
       "\n",
       "    .dataframe thead th {\n",
       "        text-align: right;\n",
       "    }\n",
       "</style>\n",
       "<table border=\"1\" class=\"dataframe\">\n",
       "  <thead>\n",
       "    <tr style=\"text-align: right;\">\n",
       "      <th></th>\n",
       "      <th>Open</th>\n",
       "    </tr>\n",
       "  </thead>\n",
       "  <tbody>\n",
       "    <tr>\n",
       "      <th>0</th>\n",
       "      <td>39.69</td>\n",
       "    </tr>\n",
       "    <tr>\n",
       "      <th>1</th>\n",
       "      <td>41.22</td>\n",
       "    </tr>\n",
       "    <tr>\n",
       "      <th>2</th>\n",
       "      <td>40.93</td>\n",
       "    </tr>\n",
       "    <tr>\n",
       "      <th>3</th>\n",
       "      <td>42.88</td>\n",
       "    </tr>\n",
       "    <tr>\n",
       "      <th>4</th>\n",
       "      <td>43.10</td>\n",
       "    </tr>\n",
       "  </tbody>\n",
       "</table>\n",
       "</div>"
      ],
      "text/plain": [
       "    Open\n",
       "0  39.69\n",
       "1  41.22\n",
       "2  40.93\n",
       "3  42.88\n",
       "4  43.10"
      ]
     },
     "execution_count": 50,
     "metadata": {},
     "output_type": "execute_result"
    }
   ],
   "source": [
    "data = data[['Open']]\n",
    "data.head()"
   ]
  },
  {
   "cell_type": "code",
   "execution_count": 51,
   "id": "04425143",
   "metadata": {
    "pycharm": {
     "name": "#%%\n"
    }
   },
   "outputs": [
    {
     "data": {
      "image/png": "[encoded data removed]",
      "text/plain": [
       "<Figure size 432x288 with 1 Axes>"
      ]
     },
     "metadata": {
      "needs_background": "light"
     },
     "output_type": "display_data"
    }
   ],
   "source": [
    "plt.plot(data['Open'])\n",
    "plt.show()"
   ]
  },
  {
   "cell_type": "markdown",
   "id": "e62abaab",
   "metadata": {
    "pycharm": {
     "name": "#%% md\n"
    }
   },
   "source": [
    "### Data Preprocessing"
   ]
  },
  {
   "cell_type": "code",
   "execution_count": 52,
   "id": "a71529d0",
   "metadata": {
    "pycharm": {
     "name": "#%%\n"
    }
   },
   "outputs": [],
   "source": [
    "X = data['Open'].values"
   ]
  },
  {
   "cell_type": "code",
   "execution_count": 53,
   "id": "06c1ad26",
   "metadata": {
    "pycharm": {
     "name": "#%%\n"
    }
   },
   "outputs": [
    {
     "data": {
      "text/plain": [
       "3019"
      ]
     },
     "execution_count": 53,
     "metadata": {},
     "output_type": "execute_result"
    }
   ],
   "source": [
    "len(X)"
   ]
  },
  {
   "cell_type": "code",
   "execution_count": 54,
   "id": "7ee501b4",
   "metadata": {
    "pycharm": {
     "name": "#%%\n"
    }
   },
   "outputs": [],
   "source": [
    "X_train, X_test = X[:2500], X[2500:]"
   ]
  },
  {
   "cell_type": "code",
   "execution_count": 55,
   "id": "e7279be5",
   "metadata": {
    "pycharm": {
     "name": "#%%\n"
    }
   },
   "outputs": [
    {
     "data": {
      "text/plain": [
       "2500"
      ]
     },
     "execution_count": 55,
     "metadata": {},
     "output_type": "execute_result"
    }
   ],
   "source": [
    "len(X_train)"
   ]
  },
  {
   "cell_type": "code",
   "execution_count": 56,
   "id": "0baae89a",
   "metadata": {
    "pycharm": {
     "name": "#%%\n"
    }
   },
   "outputs": [
    {
     "data": {
      "text/plain": [
       "519"
      ]
     },
     "execution_count": 56,
     "metadata": {},
     "output_type": "execute_result"
    }
   ],
   "source": [
    "len(X_test)"
   ]
  },
  {
   "cell_type": "markdown",
   "id": "ff0cdf0a",
   "metadata": {
    "pycharm": {
     "name": "#%% md\n"
    }
   },
   "source": [
    "Now we divide data into sequences"
   ]
  },
  {
   "cell_type": "code",
   "execution_count": 57,
   "id": "08d57e6a",
   "metadata": {
    "pycharm": {
     "name": "#%%\n"
    }
   },
   "outputs": [],
   "source": [
    "seq = 30"
   ]
  },
  {
   "cell_type": "code",
   "execution_count": 58,
   "id": "b21de215",
   "metadata": {
    "pycharm": {
     "name": "#%%\n"
    }
   },
   "outputs": [],
   "source": [
    "XT, yT = [], []\n",
    "for i in range(len(X_train) - seq):\n",
    "    d = i + seq\n",
    "    XT.append(X_train[i:d,])\n",
    "    yT.append(X_train[d])"
   ]
  },
  {
   "cell_type": "code",
   "execution_count": 59,
   "id": "79e1122f",
   "metadata": {
    "pycharm": {
     "name": "#%%\n"
    }
   },
   "outputs": [],
   "source": [
    "Xt, yt = [], []\n",
    "for i in range(len(X_test) - seq):\n",
    "    d = i + seq\n",
    "    Xt.append(X_test[i:d,])\n",
    "    yt.append(X_test[d])"
   ]
  },
  {
   "cell_type": "code",
   "execution_count": 60,
   "id": "78657efb",
   "metadata": {
    "pycharm": {
     "name": "#%%\n"
    }
   },
   "outputs": [],
   "source": [
    "XT = np.array(XT)\n",
    "Xt = np.array(Xt)"
   ]
  },
  {
   "cell_type": "code",
   "execution_count": 61,
   "id": "959c820d",
   "metadata": {
    "pycharm": {
     "name": "#%%\n"
    }
   },
   "outputs": [],
   "source": [
    "XT = np.reshape(XT, (XT.shape[0], XT.shape[1], 1))\n",
    "Xt = np.reshape(Xt, (Xt.shape[0], Xt.shape[1], 1))"
   ]
  },
  {
   "cell_type": "code",
   "execution_count": 62,
   "id": "b5d80f50",
   "metadata": {
    "pycharm": {
     "name": "#%%\n"
    }
   },
   "outputs": [],
   "source": [
    "yT = np.array(yT)\n",
    "yt = np.array(yt)"
   ]
  },
  {
   "cell_type": "code",
   "execution_count": 63,
   "id": "48dc3b70",
   "metadata": {
    "pycharm": {
     "name": "#%%\n"
    }
   },
   "outputs": [
    {
     "data": {
      "text/plain": [
       "(2470, 30, 1)"
      ]
     },
     "execution_count": 63,
     "metadata": {},
     "output_type": "execute_result"
    }
   ],
   "source": [
    "XT.shape"
   ]
  },
  {
   "cell_type": "code",
   "execution_count": 64,
   "id": "5b35f40e",
   "metadata": {
    "pycharm": {
     "name": "#%%\n"
    }
   },
   "outputs": [
    {
     "data": {
      "text/plain": [
       "(2470,)"
      ]
     },
     "execution_count": 64,
     "metadata": {},
     "output_type": "execute_result"
    }
   ],
   "source": [
    "yT.shape"
   ]
  },
  {
   "cell_type": "code",
   "execution_count": 65,
   "id": "1db5e6a7",
   "metadata": {
    "pycharm": {
     "name": "#%%\n"
    }
   },
   "outputs": [
    {
     "data": {
      "text/plain": [
       "(489, 30, 1)"
      ]
     },
     "execution_count": 65,
     "metadata": {},
     "output_type": "execute_result"
    }
   ],
   "source": [
    "Xt.shape"
   ]
  },
  {
   "cell_type": "code",
   "execution_count": 66,
   "id": "6ce235e2",
   "metadata": {
    "pycharm": {
     "name": "#%%\n"
    }
   },
   "outputs": [
    {
     "data": {
      "text/plain": [
       "(489,)"
      ]
     },
     "execution_count": 66,
     "metadata": {},
     "output_type": "execute_result"
    }
   ],
   "source": [
    "yt.shape"
   ]
  },
  {
   "cell_type": "markdown",
   "id": "46317b2d",
   "metadata": {
    "pycharm": {
     "name": "#%% md\n"
    }
   },
   "source": [
    "### Modeling"
   ]
  },
  {
   "cell_type": "code",
   "execution_count": 71,
   "id": "9018a15e",
   "metadata": {
    "pycharm": {
     "name": "#%%\n"
    }
   },
   "outputs": [],
   "source": [
    "model = Sequential()\n",
    "model.add(SimpleRNN(units=64, activation='tanh', input_shape=(seq, 1)))\n",
    "model.add(Dense(1))"
   ]
  },
  {
   "cell_type": "code",
   "execution_count": 72,
   "id": "006bc6d1",
   "metadata": {
    "pycharm": {
     "name": "#%%\n"
    }
   },
   "outputs": [],
   "source": [
    "model.compile(loss='mean_absolute_error', optimizer='adam')"
   ]
  },
  {
   "cell_type": "code",
   "execution_count": 73,
   "id": "881b4e38",
   "metadata": {
    "pycharm": {
     "name": "#%%\n"
    }
   },
   "outputs": [
    {
     "name": "stdout",
     "output_type": "stream",
     "text": [
      "Model: \"sequential_5\"\n",
      "_________________________________________________________________\n",
      " Layer (type)                Output Shape              Param #   \n",
      "=================================================================\n",
      " simple_rnn_5 (SimpleRNN)    (None, 64)                4224      \n",
      "                                                                 \n",
      " dense_4 (Dense)             (None, 1)                 65        \n",
      "                                                                 \n",
      "=================================================================\n",
      "Total params: 4,289\n",
      "Trainable params: 4,289\n",
      "Non-trainable params: 0\n",
      "_________________________________________________________________\n"
     ]
    }
   ],
   "source": [
    "model.summary()"
   ]
  },
  {
   "cell_type": "code",
   "execution_count": 74,
   "id": "3b5596de",
   "metadata": {
    "pycharm": {
     "name": "#%%\n"
    }
   },
   "outputs": [
    {
     "data": {
      "image/png": "[encoded data removed]",
      "text/plain": [
       "<IPython.core.display.Image object>"
      ]
     },
     "execution_count": 74,
     "metadata": {},
     "output_type": "execute_result"
    }
   ],
   "source": [
    "plot_model(model, show_shapes=True)"
   ]
  },
  {
   "cell_type": "code",
   "execution_count": 75,
   "id": "084ae7d9",
   "metadata": {
    "scrolled": true,
    "pycharm": {
     "name": "#%%\n"
    }
   },
   "outputs": [
    {
     "name": "stdout",
     "output_type": "stream",
     "text": [
      "Epoch 1/100\n",
      "124/124 [==============================] - 1s 5ms/step - loss: 18.5592\n",
      "Epoch 2/100\n",
      "124/124 [==============================] - 1s 6ms/step - loss: 9.2322\n",
      "Epoch 3/100\n",
      "124/124 [==============================] - 1s 6ms/step - loss: 5.9604\n",
      "Epoch 4/100\n",
      "124/124 [==============================] - 1s 5ms/step - loss: 3.5510\n",
      "Epoch 5/100\n",
      "124/124 [==============================] - 1s 7ms/step - loss: 2.2921\n",
      "Epoch 6/100\n",
      "124/124 [==============================] - 1s 5ms/step - loss: 1.6489\n",
      "Epoch 7/100\n",
      "124/124 [==============================] - 1s 6ms/step - loss: 1.2764\n",
      "Epoch 8/100\n",
      "124/124 [==============================] - 1s 5ms/step - loss: 1.0274\n",
      "Epoch 9/100\n",
      "124/124 [==============================] - 1s 5ms/step - loss: 0.8689\n",
      "Epoch 10/100\n",
      "124/124 [==============================] - 1s 6ms/step - loss: 0.7772\n",
      "Epoch 11/100\n",
      "124/124 [==============================] - 1s 5ms/step - loss: 0.6867\n",
      "Epoch 12/100\n",
      "124/124 [==============================] - 1s 6ms/step - loss: 0.6224\n",
      "Epoch 13/100\n",
      "124/124 [==============================] - 1s 5ms/step - loss: 0.5760\n",
      "Epoch 14/100\n",
      "124/124 [==============================] - 1s 5ms/step - loss: 0.5467\n",
      "Epoch 15/100\n",
      "124/124 [==============================] - 1s 5ms/step - loss: 0.5272\n",
      "Epoch 16/100\n",
      "124/124 [==============================] - 1s 5ms/step - loss: 0.5319\n",
      "Epoch 17/100\n",
      "124/124 [==============================] - 1s 5ms/step - loss: 0.5081\n",
      "Epoch 18/100\n",
      "124/124 [==============================] - 1s 5ms/step - loss: 0.4963\n",
      "Epoch 19/100\n",
      "124/124 [==============================] - 1s 6ms/step - loss: 0.4910\n",
      "Epoch 20/100\n",
      "124/124 [==============================] - 1s 5ms/step - loss: 0.5072\n",
      "Epoch 21/100\n",
      "124/124 [==============================] - 1s 5ms/step - loss: 0.4839\n",
      "Epoch 22/100\n",
      "124/124 [==============================] - 1s 5ms/step - loss: 0.4654\n",
      "Epoch 23/100\n",
      "124/124 [==============================] - 1s 5ms/step - loss: 0.4544\n",
      "Epoch 24/100\n",
      "124/124 [==============================] - 1s 5ms/step - loss: 0.4465\n",
      "Epoch 25/100\n",
      "124/124 [==============================] - 1s 6ms/step - loss: 0.4480\n",
      "Epoch 26/100\n",
      "124/124 [==============================] - 1s 6ms/step - loss: 0.4418\n",
      "Epoch 27/100\n",
      "124/124 [==============================] - 1s 6ms/step - loss: 0.4401\n",
      "Epoch 28/100\n",
      "124/124 [==============================] - 1s 6ms/step - loss: 0.4329\n",
      "Epoch 29/100\n",
      "124/124 [==============================] - 1s 6ms/step - loss: 0.4315\n",
      "Epoch 30/100\n",
      "124/124 [==============================] - 1s 6ms/step - loss: 0.4191\n",
      "Epoch 31/100\n",
      "124/124 [==============================] - 1s 6ms/step - loss: 0.4306\n",
      "Epoch 32/100\n",
      "124/124 [==============================] - 1s 7ms/step - loss: 0.4467\n",
      "Epoch 33/100\n",
      "124/124 [==============================] - 1s 7ms/step - loss: 0.4392\n",
      "Epoch 34/100\n",
      "124/124 [==============================] - 1s 7ms/step - loss: 0.4157\n",
      "Epoch 35/100\n",
      "124/124 [==============================] - 1s 7ms/step - loss: 0.4292\n",
      "Epoch 36/100\n",
      "124/124 [==============================] - 1s 8ms/step - loss: 0.4337\n",
      "Epoch 37/100\n",
      "124/124 [==============================] - 1s 7ms/step - loss: 0.4299\n",
      "Epoch 38/100\n",
      "124/124 [==============================] - 1s 6ms/step - loss: 0.4204\n",
      "Epoch 39/100\n",
      "124/124 [==============================] - 1s 6ms/step - loss: 0.4349\n",
      "Epoch 40/100\n",
      "124/124 [==============================] - 1s 6ms/step - loss: 0.4319\n",
      "Epoch 41/100\n",
      "124/124 [==============================] - 1s 6ms/step - loss: 0.4289\n",
      "Epoch 42/100\n",
      "124/124 [==============================] - 1s 6ms/step - loss: 0.4183\n",
      "Epoch 43/100\n",
      "124/124 [==============================] - 1s 6ms/step - loss: 0.4482\n",
      "Epoch 44/100\n",
      "124/124 [==============================] - 1s 7ms/step - loss: 0.4171\n",
      "Epoch 45/100\n",
      "124/124 [==============================] - 1s 7ms/step - loss: 0.4347\n",
      "Epoch 46/100\n",
      "124/124 [==============================] - 1s 6ms/step - loss: 0.4173\n",
      "Epoch 47/100\n",
      "124/124 [==============================] - 1s 6ms/step - loss: 0.4221\n",
      "Epoch 48/100\n",
      "124/124 [==============================] - 1s 6ms/step - loss: 0.4257\n",
      "Epoch 49/100\n",
      "124/124 [==============================] - 1s 7ms/step - loss: 0.4367\n",
      "Epoch 50/100\n",
      "124/124 [==============================] - 1s 7ms/step - loss: 0.4397\n",
      "Epoch 51/100\n",
      "124/124 [==============================] - 1s 7ms/step - loss: 0.4229\n",
      "Epoch 52/100\n",
      "124/124 [==============================] - 1s 6ms/step - loss: 0.4282\n",
      "Epoch 53/100\n",
      "124/124 [==============================] - 1s 7ms/step - loss: 0.4262\n",
      "Epoch 54/100\n",
      "124/124 [==============================] - 1s 6ms/step - loss: 0.4342\n",
      "Epoch 55/100\n",
      "124/124 [==============================] - 1s 7ms/step - loss: 0.4329\n",
      "Epoch 56/100\n",
      "124/124 [==============================] - 1s 7ms/step - loss: 0.4172\n",
      "Epoch 57/100\n",
      "124/124 [==============================] - 1s 7ms/step - loss: 0.4222\n",
      "Epoch 58/100\n",
      "124/124 [==============================] - 1s 6ms/step - loss: 0.4448\n",
      "Epoch 59/100\n",
      "124/124 [==============================] - 1s 6ms/step - loss: 0.4293\n",
      "Epoch 60/100\n",
      "124/124 [==============================] - 1s 6ms/step - loss: 0.4135\n",
      "Epoch 61/100\n",
      "124/124 [==============================] - 1s 6ms/step - loss: 0.4241\n",
      "Epoch 62/100\n",
      "124/124 [==============================] - 1s 6ms/step - loss: 0.4303\n",
      "Epoch 63/100\n",
      "124/124 [==============================] - 1s 6ms/step - loss: 0.4224\n",
      "Epoch 64/100\n",
      "124/124 [==============================] - 1s 6ms/step - loss: 0.4293\n",
      "Epoch 65/100\n",
      "124/124 [==============================] - 1s 6ms/step - loss: 0.4196\n",
      "Epoch 66/100\n",
      "124/124 [==============================] - 1s 8ms/step - loss: 0.4220\n",
      "Epoch 67/100\n",
      "124/124 [==============================] - 1s 6ms/step - loss: 0.4319\n",
      "Epoch 68/100\n",
      "124/124 [==============================] - 1s 6ms/step - loss: 0.4231\n",
      "Epoch 69/100\n",
      "124/124 [==============================] - 1s 6ms/step - loss: 0.4300\n",
      "Epoch 70/100\n",
      "124/124 [==============================] - 1s 6ms/step - loss: 0.4218\n",
      "Epoch 71/100\n",
      "124/124 [==============================] - 1s 6ms/step - loss: 0.4408\n",
      "Epoch 72/100\n",
      "124/124 [==============================] - 1s 6ms/step - loss: 0.4299\n",
      "Epoch 73/100\n",
      "124/124 [==============================] - 1s 6ms/step - loss: 0.4298\n",
      "Epoch 74/100\n",
      "124/124 [==============================] - 1s 6ms/step - loss: 0.4256\n",
      "Epoch 75/100\n",
      "124/124 [==============================] - 1s 6ms/step - loss: 0.4326\n",
      "Epoch 76/100\n",
      "124/124 [==============================] - 1s 6ms/step - loss: 0.4241\n",
      "Epoch 77/100\n",
      "124/124 [==============================] - 1s 6ms/step - loss: 0.4245\n",
      "Epoch 78/100\n",
      "124/124 [==============================] - 1s 6ms/step - loss: 0.4111\n",
      "Epoch 79/100\n",
      "124/124 [==============================] - 1s 6ms/step - loss: 0.4132\n",
      "Epoch 80/100\n",
      "124/124 [==============================] - 1s 6ms/step - loss: 0.4429\n",
      "Epoch 81/100\n",
      "124/124 [==============================] - 1s 6ms/step - loss: 0.4301\n",
      "Epoch 82/100\n",
      "124/124 [==============================] - 1s 6ms/step - loss: 0.4185\n",
      "Epoch 83/100\n",
      "124/124 [==============================] - 1s 6ms/step - loss: 0.4219\n",
      "Epoch 84/100\n",
      "124/124 [==============================] - 1s 7ms/step - loss: 0.4213\n",
      "Epoch 85/100\n",
      "124/124 [==============================] - 1s 7ms/step - loss: 0.4308\n",
      "Epoch 86/100\n",
      "124/124 [==============================] - 1s 6ms/step - loss: 0.4259\n",
      "Epoch 87/100\n",
      "124/124 [==============================] - 1s 6ms/step - loss: 0.4190\n",
      "Epoch 88/100\n",
      "124/124 [==============================] - 1s 6ms/step - loss: 0.4447\n",
      "Epoch 89/100\n",
      "124/124 [==============================] - 1s 6ms/step - loss: 0.4391\n",
      "Epoch 90/100\n",
      "124/124 [==============================] - 1s 6ms/step - loss: 0.4340\n",
      "Epoch 91/100\n",
      "124/124 [==============================] - 1s 6ms/step - loss: 0.4401\n",
      "Epoch 92/100\n",
      "124/124 [==============================] - 1s 6ms/step - loss: 0.4218\n",
      "Epoch 93/100\n",
      "124/124 [==============================] - 1s 6ms/step - loss: 0.4188\n",
      "Epoch 94/100\n",
      "124/124 [==============================] - 1s 6ms/step - loss: 0.4172\n",
      "Epoch 95/100\n",
      "124/124 [==============================] - 1s 6ms/step - loss: 0.4271\n",
      "Epoch 96/100\n",
      "124/124 [==============================] - 1s 6ms/step - loss: 0.4192\n",
      "Epoch 97/100\n",
      "124/124 [==============================] - 1s 6ms/step - loss: 0.4207\n",
      "Epoch 98/100\n",
      "124/124 [==============================] - 1s 6ms/step - loss: 0.4165\n",
      "Epoch 99/100\n"
     ]
    },
    {
     "name": "stdout",
     "output_type": "stream",
     "text": [
      "124/124 [==============================] - 1s 6ms/step - loss: 0.4128\n",
      "Epoch 100/100\n",
      "124/124 [==============================] - 1s 6ms/step - loss: 0.4139\n"
     ]
    }
   ],
   "source": [
    "history = model.fit(XT, yT, epochs=100, batch_size=20)"
   ]
  },
  {
   "cell_type": "markdown",
   "id": "39d8e513",
   "metadata": {
    "pycharm": {
     "name": "#%% md\n"
    }
   },
   "source": [
    "### Evaluation"
   ]
  },
  {
   "cell_type": "code",
   "execution_count": 76,
   "id": "2edbc23f",
   "metadata": {
    "pycharm": {
     "name": "#%%\n"
    }
   },
   "outputs": [
    {
     "name": "stdout",
     "output_type": "stream",
     "text": [
      "78/78 [==============================] - 0s 3ms/step\n",
      "16/16 [==============================] - 0s 3ms/step\n"
     ]
    }
   ],
   "source": [
    "XTPredicted = model.predict(XT)\n",
    "XtPredicted = model.predict(Xt)\n",
    "XFinal = np.concatenate([XTPredicted, XtPredicted], axis=0)"
   ]
  },
  {
   "cell_type": "code",
   "execution_count": 77,
   "id": "b9197d8e",
   "metadata": {
    "pycharm": {
     "name": "#%%\n"
    }
   },
   "outputs": [
    {
     "data": {
      "image/png": "[encoded data removed]",
      "text/plain": [
       "<Figure size 432x288 with 1 Axes>"
      ]
     },
     "metadata": {
      "needs_background": "light"
     },
     "output_type": "display_data"
    }
   ],
   "source": [
    "plt.plot(X, color='red', label='Real')\n",
    "plt.plot(XFinal, color='blue', label='Predicted')\n",
    "plt.xlabel('Time')\n",
    "plt.ylabel('Stock')\n",
    "plt.title('Real vs Prediction')\n",
    "plt.legend()\n",
    "plt.show()"
   ]
  },
  {
   "cell_type": "code",
   "execution_count": null,
   "id": "aa608896",
   "metadata": {
    "pycharm": {
     "name": "#%%\n"
    }
   },
   "outputs": [],
   "source": []
  }
 ],
 "metadata": {
  "kernelspec": {
   "display_name": "Python 3 (ipykernel)",
   "language": "python",
   "name": "python3"
  },
  "language_info": {
   "codemirror_mode": {
    "name": "ipython",
    "version": 3
   },
   "file_extension": ".py",
   "mimetype": "text/x-python",
   "name": "python",
   "nbconvert_exporter": "python",
   "pygments_lexer": "ipython3",
   "version": "3.9.12"
  }
 },
 "nbformat": 4,
 "nbformat_minor": 5
}